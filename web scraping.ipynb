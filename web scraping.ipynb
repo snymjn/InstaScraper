{
 "cells": [
  {
   "cell_type": "code",
   "execution_count": 14,
   "metadata": {},
   "outputs": [],
   "source": [
    "driver = webdriver.Chrome('C:/Users/samej/Downloads/chromedriver_win32/chromedriver.exe')\n",
    "driver.get(\"https://www.instagram.com/\")"
   ]
  },
  {
   "cell_type": "code",
   "execution_count": 12,
   "metadata": {},
   "outputs": [],
   "source": [
    "from selenium import webdriver\n",
    "from selenium.webdriver.common.keys import Keys\n",
    "from selenium.webdriver.support import expected_conditions as EC\n",
    "from selenium.webdriver.common.by import By\n",
    "from selenium.webdriver.support.wait import WebDriverWait"
   ]
  },
  {
   "cell_type": "code",
   "execution_count": 13,
   "metadata": {},
   "outputs": [],
   "source": [
    "import os\n",
    "import wget"
   ]
  },
  {
   "cell_type": "code",
   "execution_count": 15,
   "metadata": {},
   "outputs": [],
   "source": [
    "username = WebDriverWait(driver,10).until(EC.element_to_be_clickable((By.CSS_SELECTOR,\"input[name='username']\")))\n",
    "password = WebDriverWait(driver,10).until(EC.element_to_be_clickable((By.CSS_SELECTOR,\"input[name='password']\")))\n",
    "username.clear()\n",
    "password.clear()\n",
    "#Write you own username and password\n",
    "username.send_keys(\"username\")\n",
    "password.send_keys(\"password\")\n"
   ]
  },
  {
   "cell_type": "code",
   "execution_count": 16,
   "metadata": {},
   "outputs": [],
   "source": [
    "log_in= WebDriverWait(driver,10).until(EC.element_to_be_clickable((By.CSS_SELECTOR,\"button[type='submit']\"))).click()\n"
   ]
  },
  {
   "cell_type": "code",
   "execution_count": 17,
   "metadata": {},
   "outputs": [],
   "source": [
    "not_now=WebDriverWait(driver,10).until(EC.element_to_be_clickable((By.XPATH, \"//button[contains(text(), 'Not Now')]\"))).click()\n"
   ]
  },
  {
   "cell_type": "code",
   "execution_count": 18,
   "metadata": {},
   "outputs": [],
   "source": [
    "notnow2=WebDriverWait(driver,10).until(EC.element_to_be_clickable((By.XPATH, \"//button[contains(text(), 'Not Now')]\"))).click()"
   ]
  },
  {
   "cell_type": "code",
   "execution_count": 19,
   "metadata": {},
   "outputs": [],
   "source": [
    "searchbox=WebDriverWait(driver,10).until(EC.element_to_be_clickable((By.XPATH, \"//input[@placeholder ='Search']\")))\n",
    "searchbox.clear()\n",
    "keyword=\"#cat\"\n",
    "searchbox.send_keys(keyword)"
   ]
  },
  {
   "cell_type": "code",
   "execution_count": 22,
   "metadata": {},
   "outputs": [],
   "source": [
    "searchbox.send_keys(Keys.ENTER)"
   ]
  },
  {
   "cell_type": "code",
   "execution_count": 25,
   "metadata": {},
   "outputs": [
    {
     "data": {
      "text/plain": [
       "['https://instagram.fjai1-2.fna.fbcdn.net/v/t51.2885-15/e35/s150x150/143918480_159469909113243_6662203853267250734_n.jpg?_nc_ht=instagram.fjai1-2.fna.fbcdn.net&_nc_cat=1&_nc_ohc=xGi9nJ3HcawAX--Qdtk&tp=1&oh=cb433b17d50d8ca5a14a7093bbf0ad8a&oe=603F1705',\n",
       " 'https://instagram.fjai1-1.fna.fbcdn.net/v/t51.2885-15/sh0.08/e35/s640x640/144328978_253660939671522_7747791694876401083_n.jpg?_nc_ht=instagram.fjai1-1.fna.fbcdn.net&_nc_cat=106&_nc_ohc=4U-bK29PEj0AX8XWUI-&tp=1&oh=d10808b283bddeb21173d169dd8d757a&oe=603F531C',\n",
       " 'https://instagram.fjai1-2.fna.fbcdn.net/v/t51.2885-15/sh0.08/e35/c0.180.1440.1440a/s640x640/144328977_112142614175184_1526629361292938278_n.jpg?_nc_ht=instagram.fjai1-2.fna.fbcdn.net&_nc_cat=100&_nc_ohc=Zi5cYUBwdqUAX-0V9XP&tp=1&oh=331f65067711c81d8b9de0af6429fcdc&oe=603E2A1A',\n",
       " 'https://instagram.fjai1-2.fna.fbcdn.net/v/t51.2885-15/sh0.08/e35/s640x640/144110206_2517136085257221_303633774052600532_n.jpg?_nc_ht=instagram.fjai1-2.fna.fbcdn.net&_nc_cat=1&_nc_ohc=zdZNGwWvuY0AX9w_pkE&tp=1&oh=7b44c9d843350f452a3e521febae97ad&oe=60406E5A',\n",
       " 'https://instagram.fjai1-2.fna.fbcdn.net/v/t51.2885-15/sh0.08/e35/s640x640/144816941_803094417216499_6065687876577727261_n.jpg?_nc_ht=instagram.fjai1-2.fna.fbcdn.net&_nc_cat=107&_nc_ohc=xK-dnQQHee8AX9gnD73&tp=1&oh=412a1d8854bed1af67cb4e2b72ebe6c1&oe=6040D48B',\n",
       " 'https://instagram.fjai1-2.fna.fbcdn.net/v/t51.2885-15/sh0.08/e35/s640x640/143665039_1106627406426338_7020231848904741439_n.jpg?_nc_ht=instagram.fjai1-2.fna.fbcdn.net&_nc_cat=1&_nc_ohc=jgtLq6H_BMUAX9Pp7OM&tp=1&oh=cbefe614051372d58e8868a678cc76e4&oe=603FAA23',\n",
       " 'https://instagram.fjai1-1.fna.fbcdn.net/v/t51.2885-15/sh0.08/e35/s640x640/144434905_843400496441405_3413401840743867904_n.jpg?_nc_ht=instagram.fjai1-1.fna.fbcdn.net&_nc_cat=105&_nc_ohc=0Nf03U1cTLsAX8_-l3T&tp=1&oh=8b2ef8bcf2ccf29f749ade8d2f4f1267&oe=603FE631',\n",
       " 'https://instagram.fjai1-1.fna.fbcdn.net/v/t51.2885-15/sh0.08/e35/s640x640/143550134_2904270229896253_6646054438902725456_n.jpg?_nc_ht=instagram.fjai1-1.fna.fbcdn.net&_nc_cat=101&_nc_ohc=tlO4EFd-ausAX_b13o5&tp=1&oh=cbcf1045264a1e565693933f738ed3e0&oe=603E8642',\n",
       " 'https://instagram.fjai1-1.fna.fbcdn.net/v/t51.2885-15/sh0.08/e35/c48.0.983.983a/s640x640/144021847_2598679823756574_2018439391592754856_n.jpg?_nc_ht=instagram.fjai1-1.fna.fbcdn.net&_nc_cat=106&_nc_ohc=lE_3PlCdWoIAX_v9s7n&tp=1&oh=457ef0e90625ca8b529894ce02261f44&oe=603EB0EF',\n",
       " 'https://instagram.fjai1-2.fna.fbcdn.net/v/t51.2885-15/sh0.08/e35/c1.0.748.748a/s640x640/144343239_853051228826804_5109878012197342570_n.jpg?_nc_ht=instagram.fjai1-2.fna.fbcdn.net&_nc_cat=108&_nc_ohc=gGODHrJfxiMAX-uSAoW&tp=1&oh=f3f044e4975d238a15336fb56fcea7ab&oe=6040485F',\n",
       " 'https://instagram.fjai1-2.fna.fbcdn.net/v/t51.2885-15/sh0.08/e35/s640x640/144476727_414769736417676_4968467191213734966_n.jpg?_nc_ht=instagram.fjai1-2.fna.fbcdn.net&_nc_cat=100&_nc_ohc=uqNWBgRLvE0AX8ejlXS&tp=1&oh=beb37eb66780fc0ed537f68eff2c6506&oe=6040AEC6',\n",
       " 'https://instagram.fjai1-2.fna.fbcdn.net/v/t51.2885-15/sh0.08/e35/s640x640/144093059_457727162227352_7190345582133605381_n.jpg?_nc_ht=instagram.fjai1-2.fna.fbcdn.net&_nc_cat=108&_nc_ohc=03m-9xA-giEAX_9FTuR&tp=1&oh=78979dac79f4dad97ac905e718135eb7&oe=601835DA',\n",
       " 'https://instagram.fjai1-2.fna.fbcdn.net/v/t51.2885-15/sh0.08/e35/s640x640/143660505_3579911732063047_7318428320686284416_n.jpg?_nc_ht=instagram.fjai1-2.fna.fbcdn.net&_nc_cat=107&_nc_ohc=_4RKsc8YfawAX950o_Z&tp=1&oh=ab9d6b208871c1d21f03c531e6c7e472&oe=603E4DC4',\n",
       " 'https://instagram.fjai1-1.fna.fbcdn.net/v/t51.2885-15/sh0.08/e35/c0.92.736.736a/s640x640/143404222_500388138029279_7892957509141040355_n.jpg?_nc_ht=instagram.fjai1-1.fna.fbcdn.net&_nc_cat=111&_nc_ohc=fxwkQHMAwCgAX-vMApw&tp=1&oh=4436681c2ac359759c5189ecf73032f2&oe=603F8DD0',\n",
       " 'https://instagram.fjai1-2.fna.fbcdn.net/v/t51.2885-15/sh0.08/e35/s640x640/145010744_255244272636879_6038697289352518679_n.jpg?_nc_ht=instagram.fjai1-2.fna.fbcdn.net&_nc_cat=103&_nc_ohc=7bNhMLS_dCgAX9T1A1M&tp=1&oh=34690ff3484ad24fda1d9ba942600330&oe=603E1D9E',\n",
       " 'https://instagram.fjai1-1.fna.fbcdn.net/v/t51.2885-15/sh0.08/e35/s640x640/144645503_1138783529886179_7482824766891733951_n.jpg?_nc_ht=instagram.fjai1-1.fna.fbcdn.net&_nc_cat=111&_nc_ohc=38SVM4_sKBgAX_9W1xJ&tp=1&oh=cff72e62430b842b071f0abee9bfa7f2&oe=603E2B4E',\n",
       " 'https://instagram.fjai1-2.fna.fbcdn.net/v/t51.2885-15/sh0.08/e35/s640x640/143566460_1989356681211840_6944801383977668615_n.jpg?_nc_ht=instagram.fjai1-2.fna.fbcdn.net&_nc_cat=100&_nc_ohc=hAHbg3NB2rkAX95yl7t&tp=1&oh=5f9724594d388f1a72d42bf7112dd575&oe=603D8E2D',\n",
       " 'https://instagram.fjai1-2.fna.fbcdn.net/v/t51.2885-15/sh0.08/e35/s640x640/144123720_6748844598466372_2671915533931317376_n.jpg?_nc_ht=instagram.fjai1-2.fna.fbcdn.net&_nc_cat=104&_nc_ohc=aKNHMEn7mWAAX9A4FuJ&tp=1&oh=3db807cb3949178e2b381ed31fa7c088&oe=603DAB45',\n",
       " 'https://instagram.fjai1-2.fna.fbcdn.net/v/t51.2885-15/sh0.08/e35/c180.0.1079.1079a/s640x640/145149851_855819141879244_4895856066414801327_n.jpg?_nc_ht=instagram.fjai1-2.fna.fbcdn.net&_nc_cat=104&_nc_ohc=sfDRFp-4Ng8AX9J6_5N&tp=1&oh=297cbe724ffb4452b922ba687268231f&oe=6040BDEF',\n",
       " 'https://instagram.fjai1-2.fna.fbcdn.net/v/t51.2885-15/sh0.08/e35/s640x640/143742514_125534006093451_6414278660657490364_n.jpg?_nc_ht=instagram.fjai1-2.fna.fbcdn.net&_nc_cat=103&_nc_ohc=SSuINEGq0aoAX9pTb1C&tp=1&oh=6c9f38951e163beaffaa84ac44e0d1d5&oe=6040731F',\n",
       " 'https://instagram.fjai1-1.fna.fbcdn.net/v/t51.2885-15/sh0.08/e35/c0.180.1440.1440a/s640x640/145141713_1165298077239599_2167706048833034889_n.jpg?_nc_ht=instagram.fjai1-1.fna.fbcdn.net&_nc_cat=111&_nc_ohc=zAM1oR-x_hAAX996rhp&tp=1&oh=893be098191c4f73e1e3b08561e1e379&oe=603E8194',\n",
       " 'https://instagram.fjai1-1.fna.fbcdn.net/v/t51.2885-15/sh0.08/e35/c0.95.1440.1440a/s640x640/143890124_150842540177615_1321319627309370829_n.jpg?_nc_ht=instagram.fjai1-1.fna.fbcdn.net&_nc_cat=111&_nc_ohc=-T48s1bsRsAAX_tsLZw&tp=1&oh=ee2f0de1d44c0cb29018a8b9d6c55791&oe=60406BCE',\n",
       " 'https://instagram.fjai1-2.fna.fbcdn.net/v/t51.2885-15/sh0.08/e35/c239.0.961.961a/s640x640/143693022_214730050295342_6351467897495109383_n.jpg?_nc_ht=instagram.fjai1-2.fna.fbcdn.net&_nc_cat=102&_nc_ohc=nZ-a4zSB74UAX-vlbMh&tp=1&oh=c489a87a0a99930705f707255f3e6df3&oe=60414516',\n",
       " 'https://instagram.fjai1-1.fna.fbcdn.net/v/t51.2885-15/sh0.08/e35/s640x640/144237034_230123765506217_2239818729973581301_n.jpg?_nc_ht=instagram.fjai1-1.fna.fbcdn.net&_nc_cat=105&_nc_ohc=N6Foxg9n94AAX86dbvs&tp=1&oh=e9965655e2405779c3e5fa93b22dbd66&oe=60410939',\n",
       " 'https://instagram.fjai1-2.fna.fbcdn.net/v/t51.2885-15/sh0.08/e35/c112.0.1216.1216a/s640x640/144023510_176344090495371_2094224881290353761_n.jpg?_nc_ht=instagram.fjai1-2.fna.fbcdn.net&_nc_cat=103&_nc_ohc=B1OJxMj_kC4AX9Pr50E&tp=1&oh=7a77a2341d21005ab78c0204258f34b3&oe=604049BB',\n",
       " 'https://instagram.fjai1-1.fna.fbcdn.net/v/t51.2885-15/e35/c0.0.555.555a/144482981_237524484711101_5907738423037782155_n.jpg?_nc_ht=instagram.fjai1-1.fna.fbcdn.net&_nc_cat=105&_nc_ohc=a98vA4GbetcAX92sxmS&tp=1&oh=01a78027d3b136da747d657d945925d4&oe=603EC6C9',\n",
       " 'https://instagram.fjai1-2.fna.fbcdn.net/v/t51.2885-15/sh0.08/e35/c240.0.960.960a/s640x640/144147485_436695637681539_3593838163890108204_n.jpg?_nc_ht=instagram.fjai1-2.fna.fbcdn.net&_nc_cat=103&_nc_ohc=WDBn_xHlXtsAX9_fmRL&tp=1&oh=3fe78caef8062f8c3b3862f92515b9dc&oe=603EED2B',\n",
       " 'https://instagram.fjai1-2.fna.fbcdn.net/v/t51.2885-15/sh0.08/e35/c0.180.1440.1440a/s640x640/143961190_246051233707414_7254453399561144872_n.jpg?_nc_ht=instagram.fjai1-2.fna.fbcdn.net&_nc_cat=110&_nc_ohc=6RnP36b4Xg0AX9jFPKZ&tp=1&oh=c6423a52b1de525c9a187775690f012b&oe=603E5E91',\n",
       " 'https://instagram.fjai1-1.fna.fbcdn.net/v/t51.2885-15/sh0.08/e35/c180.0.1080.1080a/s640x640/143614953_240019777682783_5200966218643482984_n.jpg?_nc_ht=instagram.fjai1-1.fna.fbcdn.net&_nc_cat=111&_nc_ohc=ZQs-qIzz_yEAX-hgZga&tp=1&oh=eef1f82a3f10042521fc1e6cfff64549&oe=603EC828',\n",
       " 'https://instagram.fjai1-2.fna.fbcdn.net/v/t51.2885-15/sh0.08/e35/c0.14.687.687a/s640x640/143742514_136542938307254_1640302592430537009_n.jpg?_nc_ht=instagram.fjai1-2.fna.fbcdn.net&_nc_cat=102&_nc_ohc=OG5BG7iEq4YAX9-_iHI&tp=1&oh=570e1e9799376d0ffc77a599b38a0f95&oe=60410459',\n",
       " 'https://instagram.fjai1-2.fna.fbcdn.net/v/t51.2885-15/sh0.08/e35/s640x640/144485752_318769056242704_7777056807804815914_n.jpg?_nc_ht=instagram.fjai1-2.fna.fbcdn.net&_nc_cat=104&_nc_ohc=09JJ3yVNojkAX-e18P0&tp=1&oh=70a1ef0ae26fa31ca10387899d4c720d&oe=60405339',\n",
       " 'https://instagram.fjai1-2.fna.fbcdn.net/v/t51.2885-15/e35/144888694_110633367681476_4502812967993013548_n.jpg?_nc_ht=instagram.fjai1-2.fna.fbcdn.net&_nc_cat=108&_nc_ohc=L239u5dSSykAX-MlXfP&tp=1&oh=83711ecf9381176ed8328c976dd23b42&oe=603F963F',\n",
       " 'https://instagram.fjai1-1.fna.fbcdn.net/v/t51.2885-15/sh0.08/e35/c0.179.1440.1440a/s640x640/144790829_710445369840935_6226589010533151404_n.jpg?_nc_ht=instagram.fjai1-1.fna.fbcdn.net&_nc_cat=111&_nc_ohc=eFom0_SRTiQAX9BbqO0&tp=1&oh=c17403d2c8ab52935cbef86d744c211f&oe=603E0BCB',\n",
       " 'https://instagram.fjai1-1.fna.fbcdn.net/v/t51.2885-15/sh0.08/e35/c0.135.1080.1080a/s640x640/144075993_263632508480833_8020238117459582511_n.jpg?_nc_ht=instagram.fjai1-1.fna.fbcdn.net&_nc_cat=101&_nc_ohc=lI42yvuznkoAX9bKuak&tp=1&oh=1424813ce991dcb48eec9c9f394de780&oe=603D8F8E',\n",
       " 'https://instagram.fjai1-2.fna.fbcdn.net/v/t51.2885-15/sh0.08/e35/c0.135.1080.1080a/s640x640/143683788_719729478692162_3071360802309513449_n.jpg?_nc_ht=instagram.fjai1-2.fna.fbcdn.net&_nc_cat=102&_nc_ohc=Amy__3_SaNMAX_D6uES&tp=1&oh=cd373d06adbe7a0941e89fad6bf2eeb6&oe=603FEDDC',\n",
       " 'https://instagram.fjai1-2.fna.fbcdn.net/v/t51.2885-15/sh0.08/e35/s640x640/143814371_767385670537564_3620435097204356945_n.jpg?_nc_ht=instagram.fjai1-2.fna.fbcdn.net&_nc_cat=104&_nc_ohc=5elf_VnSSIUAX-SPAvj&tp=1&oh=44247771526a66acd1f668608e1bb0f2&oe=604085C2',\n",
       " 'https://instagram.fjai1-2.fna.fbcdn.net/v/t51.2885-15/sh0.08/e35/s640x640/144267916_442372070513760_585296217104306170_n.jpg?_nc_ht=instagram.fjai1-2.fna.fbcdn.net&_nc_cat=100&_nc_ohc=XPHthTzBLLsAX__iN_o&tp=1&oh=203e45b142ea1dea3514f5487f9dca6c&oe=60415936',\n",
       " 'https://instagram.fjai1-1.fna.fbcdn.net/v/t51.2885-15/sh0.08/e35/c5.0.1027.1027a/s640x640/144126129_695057911123962_3030473962276977559_n.jpg?_nc_ht=instagram.fjai1-1.fna.fbcdn.net&_nc_cat=106&_nc_ohc=HmzZLgNzfLoAX_x6BsJ&tp=1&oh=f2ff9a14fc15b36fb5b70400a2f60f43&oe=60402773',\n",
       " 'https://instagram.fjai1-1.fna.fbcdn.net/v/t51.2885-15/sh0.08/e35/c179.0.1081.1081a/s640x640/143663242_115402133831745_361801607655483817_n.jpg?_nc_ht=instagram.fjai1-1.fna.fbcdn.net&_nc_cat=109&_nc_ohc=Xv3a8Uc8NvsAX9U8aD0&tp=1&oh=98d82430c047dae0e0908801ff626484&oe=603FD72F',\n",
       " 'https://instagram.fjai1-2.fna.fbcdn.net/v/t51.2885-15/sh0.08/e35/c0.116.932.932a/s640x640/143790857_1822247814591876_2129957549444150641_n.jpg?_nc_ht=instagram.fjai1-2.fna.fbcdn.net&_nc_cat=100&_nc_ohc=YXLIs82zVeIAX-8_SXx&tp=1&oh=db859161cd4e3bd20e9619b2fd809bfb&oe=603F22A6',\n",
       " 'https://instagram.fjai1-2.fna.fbcdn.net/v/t51.2885-15/e35/143711516_172514897610987_4543283792094724659_n.jpg?_nc_ht=instagram.fjai1-2.fna.fbcdn.net&_nc_cat=103&_nc_ohc=BYBBQGtbSRYAX95kGfY&tp=1&oh=05135c043fba1ed9aa6ec2a630d9c679&oe=6040FFB6',\n",
       " 'https://instagram.fjai1-2.fna.fbcdn.net/v/t51.2885-15/sh0.08/e35/c177.0.1085.1085a/s640x640/144392038_769174590673100_3134972559970642033_n.jpg?_nc_ht=instagram.fjai1-2.fna.fbcdn.net&_nc_cat=108&_nc_ohc=iCjtjeVZekEAX-mzw6G&tp=1&oh=c7622c54df8147ac1c5605e6ba36a380&oe=603EB66B',\n",
       " 'https://instagram.fjai1-1.fna.fbcdn.net/v/t51.2885-15/sh0.08/e35/s640x640/144485752_1344765499218405_3514350346484919768_n.jpg?_nc_ht=instagram.fjai1-1.fna.fbcdn.net&_nc_cat=109&_nc_ohc=AaJ2kyL6U7wAX_3EetA&tp=1&oh=3653d4d19abf03ee1d0b52f9a902212b&oe=60412FE6',\n",
       " 'https://instagram.fjai1-2.fna.fbcdn.net/v/t51.2885-15/sh0.08/e35/s640x640/143683671_441696127022064_4146893820096714061_n.jpg?_nc_ht=instagram.fjai1-2.fna.fbcdn.net&_nc_cat=100&_nc_ohc=yvXueQjkRJYAX80Sc27&tp=1&oh=b784dd19ace32810b9471e7216b361dc&oe=6041273C',\n",
       " 'https://instagram.fjai1-2.fna.fbcdn.net/v/t51.2885-15/e35/144042921_698838704325622_5831559526612273587_n.jpg?_nc_ht=instagram.fjai1-2.fna.fbcdn.net&_nc_cat=110&_nc_ohc=OXL-EG-cr1EAX-MJgmS&tp=1&oh=cf0580d40da0f8b27b388efd6fd756c8&oe=603F269B',\n",
       " 'https://instagram.fjai1-1.fna.fbcdn.net/v/t51.2885-15/sh0.08/e35/s640x640/143662783_533746420858477_4556086617632978016_n.jpg?_nc_ht=instagram.fjai1-1.fna.fbcdn.net&_nc_cat=101&_nc_ohc=p-I3C35D2CQAX-0sPf_&tp=1&oh=77226e63cbd00e34a5d4d4c62d8c7577&oe=603E86CD',\n",
       " 'https://instagram.fjai1-2.fna.fbcdn.net/v/t51.2885-15/sh0.08/e35/c0.180.1440.1440a/s640x640/144075992_2752791524962112_4982343299102478730_n.jpg?_nc_ht=instagram.fjai1-2.fna.fbcdn.net&_nc_cat=108&_nc_ohc=tsAMEfV2C_AAX_Gb0UI&tp=1&oh=8ee1d507f00e6257155cbaabb3f5edf4&oe=6040D50B',\n",
       " 'https://instagram.fjai1-1.fna.fbcdn.net/v/t51.2885-15/sh0.08/e35/s640x640/144119658_2859769914292633_8551803012662992613_n.jpg?_nc_ht=instagram.fjai1-1.fna.fbcdn.net&_nc_cat=101&_nc_ohc=vXEGtDcWO6QAX_JP2cP&tp=1&oh=b89b8591986dd15c4c3868e283174933&oe=603FDE74',\n",
       " 'https://instagram.fjai1-2.fna.fbcdn.net/v/t51.2885-15/sh0.08/e35/s640x640/143786238_1044101042741780_6557580219367007910_n.jpg?_nc_ht=instagram.fjai1-2.fna.fbcdn.net&_nc_cat=108&_nc_ohc=L0Vig7B6cdQAX-O4e6p&tp=1&oh=37f7c45613f48d7604b315bc7900313f&oe=6040D15D',\n",
       " 'https://instagram.fjai1-2.fna.fbcdn.net/v/t51.2885-15/e35/144136185_511268186505063_6607171512681889178_n.jpg?_nc_ht=instagram.fjai1-2.fna.fbcdn.net&_nc_cat=103&_nc_ohc=xuLpqpfT_TgAX-IW7Bp&tp=1&oh=98cb55555397481b796e5969d078f53a&oe=603F64B0',\n",
       " 'https://instagram.fjai1-2.fna.fbcdn.net/v/t51.2885-15/sh0.08/e35/s640x640/144586236_428829848444104_1527892200167314110_n.jpg?_nc_ht=instagram.fjai1-2.fna.fbcdn.net&_nc_cat=104&_nc_ohc=YWNS-v7s1sUAX-l9TbV&tp=1&oh=34f24e00daa87dd6feca0c392a544374&oe=603DCFB8',\n",
       " 'https://instagram.fjai1-1.fna.fbcdn.net/v/t51.2885-15/sh0.08/e35/c0.180.1440.1440a/s640x640/143734525_1018764815315958_5213409356486980135_n.jpg?_nc_ht=instagram.fjai1-1.fna.fbcdn.net&_nc_cat=106&_nc_ohc=qAnx_s0F3JIAX_PEv4f&tp=1&oh=037afd486258a1e47da90baa923617ef&oe=603EC212',\n",
       " 'https://instagram.fjai1-1.fna.fbcdn.net/v/t51.2885-15/sh0.08/e35/c0.180.1440.1440a/s640x640/145065071_2815647648689970_255965398369139119_n.jpg?_nc_ht=instagram.fjai1-1.fna.fbcdn.net&_nc_cat=106&_nc_ohc=ZrkfcRj0bvMAX95YLbR&tp=1&oh=90ee35bbc12f429c203a42ae70d249ea&oe=603E40A4',\n",
       " 'https://instagram.fjai1-2.fna.fbcdn.net/v/t51.2885-15/sh0.08/e35/c0.135.1080.1080a/s640x640/144186296_481190433294338_7182551085331392946_n.jpg?_nc_ht=instagram.fjai1-2.fna.fbcdn.net&_nc_cat=102&_nc_ohc=jhzEffh2KM8AX-OvfBl&tp=1&oh=24efd0dc500b459a261e5e1b9c37bc8f&oe=603F745F',\n",
       " 'https://instagram.fjai1-1.fna.fbcdn.net/v/t51.2885-15/e35/143711516_256236702525377_6207478475240753693_n.jpg?_nc_ht=instagram.fjai1-1.fna.fbcdn.net&_nc_cat=105&_nc_ohc=lJjublDd85IAX9oFcD-&tp=1&oh=1b0ecd7c52e926a83c17cb1670075422&oe=6017E523',\n",
       " 'https://instagram.fjai1-1.fna.fbcdn.net/v/t51.2885-15/e35/143679378_156384636119533_342105004350597793_n.jpg?_nc_ht=instagram.fjai1-1.fna.fbcdn.net&_nc_cat=101&_nc_ohc=bcFAbebhGB0AX-M8q02&tp=1&oh=36f1bc4da4e5b2cddd9343e20b0f3488&oe=6017D98D',\n",
       " 'https://instagram.fjai1-1.fna.fbcdn.net/v/t51.2885-15/sh0.08/e35/s640x640/143951950_329127441716382_6781589503860471815_n.jpg?_nc_ht=instagram.fjai1-1.fna.fbcdn.net&_nc_cat=106&_nc_ohc=Thmh8G2Vb0EAX9QGmEc&tp=1&oh=6a7ef4443ffb1580c51c6d07d1a3db3a&oe=603FAD66',\n",
       " 'https://instagram.fjai1-2.fna.fbcdn.net/v/t51.2885-15/sh0.08/e35/s640x640/143375087_1975324425941380_2489519757291473245_n.jpg?_nc_ht=instagram.fjai1-2.fna.fbcdn.net&_nc_cat=104&_nc_ohc=EepUidfDNukAX8kgg2z&tp=1&oh=9a8cd3f27494fb92606b6ffbcaa11cbb&oe=60180370',\n",
       " 'https://www.instagram.com/static/images/web/mobile_nav_type_logo.png/735145cfe0a4.png',\n",
       " 'https://instagram.fjai1-2.fna.fbcdn.net/v/t51.2885-19/s150x150/125943640_431315201598936_1130084736947022607_n.jpg?_nc_ht=instagram.fjai1-2.fna.fbcdn.net&_nc_ohc=0aKzyitkj7MAX8N2VtX&tp=1&oh=09bac2e5050cd910281949593310d690&oe=603F2599']"
      ]
     },
     "execution_count": 25,
     "metadata": {},
     "output_type": "execute_result"
    }
   ],
   "source": [
    "driver.execute_script(\"window.scrollTo(0,4000);\")\n",
    "images = driver.find_elements_by_tag_name('img')\n",
    "images = [image.get_attribute('src') for image in images]\n",
    "images"
   ]
  },
  {
   "cell_type": "code",
   "execution_count": 26,
   "metadata": {},
   "outputs": [],
   "source": []
  },
  {
   "cell_type": "code",
   "execution_count": 27,
   "metadata": {},
   "outputs": [],
   "source": []
  },
  {
   "cell_type": "code",
   "execution_count": 28,
   "metadata": {},
   "outputs": [],
   "source": []
  },
  {
   "cell_type": "code",
   "execution_count": null,
   "metadata": {},
   "outputs": [],
   "source": []
  },
  {
   "cell_type": "code",
   "execution_count": null,
   "metadata": {},
   "outputs": [],
   "source": []
  }
 ],
 "metadata": {
  "kernelspec": {
   "display_name": "Python 3",
   "language": "python",
   "name": "python3"
  },
  "language_info": {
   "codemirror_mode": {
    "name": "ipython",
    "version": 3
   },
   "file_extension": ".py",
   "mimetype": "text/x-python",
   "name": "python",
   "nbconvert_exporter": "python",
   "pygments_lexer": "ipython3",
   "version": "3.8.5"
  }
 },
 "nbformat": 4,
 "nbformat_minor": 4
}
